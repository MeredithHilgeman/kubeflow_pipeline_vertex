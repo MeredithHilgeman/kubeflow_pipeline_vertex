{
 "cells": [
  {
   "cell_type": "code",
   "execution_count": null,
   "id": "cd92b7be-2b57-418c-9ce4-127b23b67921",
   "metadata": {},
   "outputs": [],
   "source": [
    "import kfp\n",
    "from kfp import dsl\n",
    "from kfp.dsl import pipeline\n",
    "from kfp.dsl import (Artifact,\n",
    "                     Dataset,\n",
    "                     Input,\n",
    "                     Model,\n",
    "                     Output,\n",
    "                     Metrics,\n",
    "                     ClassificationMetrics,\n",
    "                     component,\n",
    "                     OutputPath,\n",
    "                     InputPath)\n",
    "\n",
    "from kfp import compiler\n",
    "import google.cloud.aiplatform as aip\n",
    "#from google_cloud_pipeline_components.v1.vertex_notification_email import VertexNotificationEmailOp\n",
    "from datetime import datetime\n",
    "\n",
    "#https://www.kubeflow.org/docs/components/pipelines/user-guides/core-functions/control-flow/"
   ]
  },
  {
   "cell_type": "code",
   "execution_count": null,
   "id": "c4a0f56a-3b38-4db5-b50e-dd5e0328bcb8",
   "metadata": {
    "tags": []
   },
   "outputs": [],
   "source": [
    "title = 'test-demo'\n",
    "\n",
    "now_string = datetime.now().strftime(\"%Y%m%d%H%M%S\")\n",
    "job_name_id = f'{title}-{now_string}'\n",
    "\n",
    "PROJECT_ID = 'test-project'\n",
    "REGION = 'us-central1'\n",
    "BUCKET_NAME = 'test-project-main'\n",
    "BUCKET_URI = f'gs://{BUCKET_NAME}'\n",
    "\n",
    "PIPELINE_ROOT = f\"{BUCKET_URI}\"\n",
    "aip.init(project=PROJECT_ID, staging_bucket=BUCKET_URI)"
   ]
  },
  {
   "cell_type": "code",
   "execution_count": null,
   "id": "f9cb6407-692b-4ba4-a943-0d4c4f40d175",
   "metadata": {},
   "outputs": [],
   "source": [
    "#@component(base_image=\"\", install_kfp_package=False)\n",
    "@component()\n",
    "\n",
    "def data_a(\n",
    "):\n",
    "    import pandas as pd\n",
    "    import numpy as np\n",
    "    import os\n",
    "    from google.cloud import bigquery\n",
    "    from google.cloud import aiplatform as aip\n",
    "    from google.cloud import storage\n",
    "    \n",
    "    project_number = os.environ[\"CLOUD_ML_PROJECT_ID\"]\n",
    "    bqclient = bigquery.Client(project=project_number)\n",
    "                                \n",
    "    table = biguqery.TableReference.from_string(\"bigquery-public-data.new_york.311_service_requests\")\n",
    "    row = bqclient.list_rows(table=table)\n",
    "    df = rows.to_dataframe(create_bqstorage_client=True)\n",
    "    print(df.shape)"
   ]
  },
  {
   "cell_type": "code",
   "execution_count": null,
   "id": "2a7c0a83-36a3-42da-9e64-a5385b569c99",
   "metadata": {
    "tags": []
   },
   "outputs": [],
   "source": [
    "#@component(base_image=\"\", install_kfp_package=False)\n",
    "@component()\n",
    "\n",
    "def data_b(\n",
    "):\n",
    "    import pandas as pd\n",
    "    import numpy as np\n",
    "    import os\n",
    "    from google.cloud import bigquery\n",
    "    from google.cloud import aiplatform as aip\n",
    "    from google.cloud import storage\n",
    "    \n",
    "    project_number = os.environ[\"CLOUD_ML_PROJECT_ID\"]\n",
    "    bqclient = bigquery.Client(project=project_number)\n",
    "                                \n",
    "    sql = \"\"\"\n",
    "    SELECT * FROM `bigquery-public-data.new_york.311_service_requests`\n",
    "    \"\"\"\n",
    "    df = bqclient.query(sql).to_dataframe()\n",
    "    print(df.shape)"
   ]
  },
  {
   "cell_type": "code",
   "execution_count": null,
   "id": "d3a1fadd-5eb5-43bc-bb96-378cdc68d427",
   "metadata": {},
   "outputs": [],
   "source": [
    "@pipeline(name = \"demo-test\",\n",
    "          description = \"putting together some code for pipelines\",\n",
    "          pipeline_root = PIPELINE_ROOT\n",
    "         )\n",
    "def pipeline_demo():\n",
    "    \n",
    "    data_a_task = data_a()\n",
    "    data_a_task.set_memory_limit('10G')\n",
    "    data_a_task.set_cpu_limit('10')\n",
    "    data_a_task.set_caching_options(False)\n",
    "    \n",
    "    data_b_task = data_b().after(data_a_task)\n",
    "    data_b_task.set_memory_limit('10G')\n",
    "    data_b_task.set_cpu_limit('10')\n",
    "    data_b_task.set_caching_options(False)"
   ]
  },
  {
   "cell_type": "code",
   "execution_count": null,
   "id": "d8132948-50f2-4e67-954e-559538379a2e",
   "metadata": {
    "tags": []
   },
   "outputs": [],
   "source": [
    "compiler.Compiler().compile(\n",
    "    pipeline_func=pipeline_demo,\n",
    "    package_path=\"test.yaml\"\n",
    ")"
   ]
  },
  {
   "cell_type": "code",
   "execution_count": null,
   "id": "04073f7e-7f33-4f73-85fc-470d3f06d581",
   "metadata": {
    "tags": []
   },
   "outputs": [],
   "source": [
    "now = datetime.now()\n",
    "dt_string = now.strftime(\"%Y%m%d%H%M%S\")\n",
    "job_name_id = f'demo-test-{dt_string}'"
   ]
  },
  {
   "cell_type": "code",
   "execution_count": null,
   "id": "ade523aa-b9ed-4569-a6b1-2bd19c9de953",
   "metadata": {
    "tags": []
   },
   "outputs": [],
   "source": [
    "print(job_name_id)"
   ]
  },
  {
   "cell_type": "code",
   "execution_count": null,
   "id": "2a333d7d-f330-403d-8992-485fc1093c6d",
   "metadata": {
    "tags": []
   },
   "outputs": [],
   "source": [
    "job = aip.PipelineJob(\n",
    "    display_name = \"test-demo\",\n",
    "    template_path = \"test.yaml\",\n",
    "    job_id = job_name_id,\n",
    "    pipeline_root = PIPELINE_ROOT\n",
    ")\n",
    "\n",
    "job.run()"
   ]
  },
  {
   "cell_type": "code",
   "execution_count": null,
   "id": "d617a66d-429e-4fbc-abed-c2b7994a97cf",
   "metadata": {},
   "outputs": [],
   "source": []
  }
 ],
 "metadata": {
  "environment": {
   "kernel": "conda-base-py",
   "name": "workbench-notebooks.m126",
   "type": "gcloud",
   "uri": "us-docker.pkg.dev/deeplearning-platform-release/gcr.io/workbench-notebooks:m126"
  },
  "kernelspec": {
   "display_name": "Python 3 (ipykernel)",
   "language": "python",
   "name": "conda-base-py"
  },
  "language_info": {
   "codemirror_mode": {
    "name": "ipython",
    "version": 3
   },
   "file_extension": ".py",
   "mimetype": "text/x-python",
   "name": "python",
   "nbconvert_exporter": "python",
   "pygments_lexer": "ipython3",
   "version": "3.10.15"
  }
 },
 "nbformat": 4,
 "nbformat_minor": 5
}
